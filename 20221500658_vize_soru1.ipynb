{
 "cells": [
  {
   "cell_type": "code",
   "execution_count": 1,
   "id": "02ea9d67-9362-444d-bfd1-cd0d9fc9b138",
   "metadata": {},
   "outputs": [],
   "source": [
    "import pandas as pd\n",
    "from scipy.stats import shapiro , levene , ttest_ind , mannwhitneyu\n",
    "pd.set_option(\"display.max_columns\",None)\n",
    "pd.set_option(\"display.width\",1000)"
   ]
  },
  {
   "cell_type": "code",
   "execution_count": 2,
   "id": "36bac5f3-a84d-4632-b988-9098c26a3ed7",
   "metadata": {},
   "outputs": [],
   "source": [
    "######################\n",
    "###    AŞAMA 1     ###\n",
    "###  VERİYİ OKUMA  ###\n",
    "######################\n",
    "df=pd.read_csv(r\"C:\\Users\\Cenk Toker\\OneDrive\\Desktop\\yapay_zeka_yüksek_lisans\\ikinci dönem\\istatistiksel yapay zeka\\vize\\health_app_usage.csv\")"
   ]
  },
  {
   "cell_type": "code",
   "execution_count": 3,
   "id": "43a6acf7-cbca-47b1-b4a6-90d1426e7701",
   "metadata": {},
   "outputs": [],
   "source": [
    "########################################################################\n",
    "###                         ÖNEMLİ BİLGİ                             ###\n",
    "###     VERİLEN SORUDA , A GRUBU UYGULAMAYI EN AZ 5 GÜN KULLANANLAR  ###\n",
    "###     B GRUBU DA , 5 GÜNDEN AZ KULLANANLAR OLARAK VERİLMİŞTİR.     ###\n",
    "###     AŞAĞIDA BULUNAN TÜM YORUMLAMALAR BUNA GÖRE YAPILMAKTADIR     ###\n",
    "########################################################################"
   ]
  },
  {
   "cell_type": "code",
   "execution_count": 4,
   "id": "c6399c77-76df-4682-b6d9-a8f6b244bf80",
   "metadata": {},
   "outputs": [
    {
     "data": {
      "text/html": [
       "<div>\n",
       "<style scoped>\n",
       "    .dataframe tbody tr th:only-of-type {\n",
       "        vertical-align: middle;\n",
       "    }\n",
       "\n",
       "    .dataframe tbody tr th {\n",
       "        vertical-align: top;\n",
       "    }\n",
       "\n",
       "    .dataframe thead th {\n",
       "        text-align: right;\n",
       "    }\n",
       "</style>\n",
       "<table border=\"1\" class=\"dataframe\">\n",
       "  <thead>\n",
       "    <tr style=\"text-align: right;\">\n",
       "      <th></th>\n",
       "      <th>Grup</th>\n",
       "      <th>Yas</th>\n",
       "      <th>Cinsiyet</th>\n",
       "      <th>Ortalama_Kalp_Atis_Hizi</th>\n",
       "      <th>Gunluk_Uyku_Suresi</th>\n",
       "      <th>Haftalik_Ortalama_Adim_Sayisi</th>\n",
       "    </tr>\n",
       "  </thead>\n",
       "  <tbody>\n",
       "    <tr>\n",
       "      <th>0</th>\n",
       "      <td>A</td>\n",
       "      <td>62</td>\n",
       "      <td>Kadın</td>\n",
       "      <td>73</td>\n",
       "      <td>8</td>\n",
       "      <td>920</td>\n",
       "    </tr>\n",
       "    <tr>\n",
       "      <th>1</th>\n",
       "      <td>A</td>\n",
       "      <td>18</td>\n",
       "      <td>Erkek</td>\n",
       "      <td>65</td>\n",
       "      <td>6</td>\n",
       "      <td>920</td>\n",
       "    </tr>\n",
       "    <tr>\n",
       "      <th>2</th>\n",
       "      <td>A</td>\n",
       "      <td>21</td>\n",
       "      <td>Erkek</td>\n",
       "      <td>60</td>\n",
       "      <td>7</td>\n",
       "      <td>902</td>\n",
       "    </tr>\n",
       "    <tr>\n",
       "      <th>3</th>\n",
       "      <td>A</td>\n",
       "      <td>21</td>\n",
       "      <td>Erkek</td>\n",
       "      <td>68</td>\n",
       "      <td>8</td>\n",
       "      <td>943</td>\n",
       "    </tr>\n",
       "    <tr>\n",
       "      <th>4</th>\n",
       "      <td>A</td>\n",
       "      <td>57</td>\n",
       "      <td>Kadın</td>\n",
       "      <td>75</td>\n",
       "      <td>6</td>\n",
       "      <td>840</td>\n",
       "    </tr>\n",
       "    <tr>\n",
       "      <th>5</th>\n",
       "      <td>A</td>\n",
       "      <td>27</td>\n",
       "      <td>Erkek</td>\n",
       "      <td>75</td>\n",
       "      <td>8</td>\n",
       "      <td>963</td>\n",
       "    </tr>\n",
       "    <tr>\n",
       "      <th>6</th>\n",
       "      <td>A</td>\n",
       "      <td>37</td>\n",
       "      <td>Kadın</td>\n",
       "      <td>71</td>\n",
       "      <td>6</td>\n",
       "      <td>798</td>\n",
       "    </tr>\n",
       "    <tr>\n",
       "      <th>7</th>\n",
       "      <td>A</td>\n",
       "      <td>39</td>\n",
       "      <td>Erkek</td>\n",
       "      <td>64</td>\n",
       "      <td>6</td>\n",
       "      <td>899</td>\n",
       "    </tr>\n",
       "    <tr>\n",
       "      <th>8</th>\n",
       "      <td>A</td>\n",
       "      <td>54</td>\n",
       "      <td>Kadın</td>\n",
       "      <td>99</td>\n",
       "      <td>7</td>\n",
       "      <td>830</td>\n",
       "    </tr>\n",
       "    <tr>\n",
       "      <th>9</th>\n",
       "      <td>A</td>\n",
       "      <td>41</td>\n",
       "      <td>Kadın</td>\n",
       "      <td>88</td>\n",
       "      <td>6</td>\n",
       "      <td>987</td>\n",
       "    </tr>\n",
       "  </tbody>\n",
       "</table>\n",
       "</div>"
      ],
      "text/plain": [
       "  Grup  Yas Cinsiyet  Ortalama_Kalp_Atis_Hizi  Gunluk_Uyku_Suresi  Haftalik_Ortalama_Adim_Sayisi\n",
       "0    A   62    Kadın                       73                   8                            920\n",
       "1    A   18    Erkek                       65                   6                            920\n",
       "2    A   21    Erkek                       60                   7                            902\n",
       "3    A   21    Erkek                       68                   8                            943\n",
       "4    A   57    Kadın                       75                   6                            840\n",
       "5    A   27    Erkek                       75                   8                            963\n",
       "6    A   37    Kadın                       71                   6                            798\n",
       "7    A   39    Erkek                       64                   6                            899\n",
       "8    A   54    Kadın                       99                   7                            830\n",
       "9    A   41    Kadın                       88                   6                            987"
      ]
     },
     "execution_count": 4,
     "metadata": {},
     "output_type": "execute_result"
    }
   ],
   "source": [
    "####VERİNİN İLK 10 SATIRININ ALINMASI######\n",
    "df.head(10)"
   ]
  },
  {
   "cell_type": "code",
   "execution_count": 5,
   "id": "29e9b96d-12af-4b6c-9bf9-9073dcdb1e0b",
   "metadata": {},
   "outputs": [
    {
     "data": {
      "text/html": [
       "<div>\n",
       "<style scoped>\n",
       "    .dataframe tbody tr th:only-of-type {\n",
       "        vertical-align: middle;\n",
       "    }\n",
       "\n",
       "    .dataframe tbody tr th {\n",
       "        vertical-align: top;\n",
       "    }\n",
       "\n",
       "    .dataframe thead th {\n",
       "        text-align: right;\n",
       "    }\n",
       "</style>\n",
       "<table border=\"1\" class=\"dataframe\">\n",
       "  <thead>\n",
       "    <tr style=\"text-align: right;\">\n",
       "      <th></th>\n",
       "      <th>Grup</th>\n",
       "      <th>Yas</th>\n",
       "      <th>Cinsiyet</th>\n",
       "      <th>Ortalama_Kalp_Atis_Hizi</th>\n",
       "      <th>Gunluk_Uyku_Suresi</th>\n",
       "      <th>Haftalik_Ortalama_Adim_Sayisi</th>\n",
       "    </tr>\n",
       "  </thead>\n",
       "  <tbody>\n",
       "    <tr>\n",
       "      <th>190</th>\n",
       "      <td>B</td>\n",
       "      <td>42</td>\n",
       "      <td>Erkek</td>\n",
       "      <td>97</td>\n",
       "      <td>6</td>\n",
       "      <td>1040</td>\n",
       "    </tr>\n",
       "    <tr>\n",
       "      <th>191</th>\n",
       "      <td>B</td>\n",
       "      <td>33</td>\n",
       "      <td>Erkek</td>\n",
       "      <td>87</td>\n",
       "      <td>7</td>\n",
       "      <td>981</td>\n",
       "    </tr>\n",
       "    <tr>\n",
       "      <th>192</th>\n",
       "      <td>B</td>\n",
       "      <td>59</td>\n",
       "      <td>Erkek</td>\n",
       "      <td>96</td>\n",
       "      <td>7</td>\n",
       "      <td>1067</td>\n",
       "    </tr>\n",
       "    <tr>\n",
       "      <th>193</th>\n",
       "      <td>B</td>\n",
       "      <td>36</td>\n",
       "      <td>Erkek</td>\n",
       "      <td>91</td>\n",
       "      <td>8</td>\n",
       "      <td>913</td>\n",
       "    </tr>\n",
       "    <tr>\n",
       "      <th>194</th>\n",
       "      <td>B</td>\n",
       "      <td>58</td>\n",
       "      <td>Kadın</td>\n",
       "      <td>89</td>\n",
       "      <td>7</td>\n",
       "      <td>995</td>\n",
       "    </tr>\n",
       "    <tr>\n",
       "      <th>195</th>\n",
       "      <td>B</td>\n",
       "      <td>33</td>\n",
       "      <td>Erkek</td>\n",
       "      <td>89</td>\n",
       "      <td>6</td>\n",
       "      <td>993</td>\n",
       "    </tr>\n",
       "    <tr>\n",
       "      <th>196</th>\n",
       "      <td>B</td>\n",
       "      <td>29</td>\n",
       "      <td>Kadın</td>\n",
       "      <td>93</td>\n",
       "      <td>8</td>\n",
       "      <td>1030</td>\n",
       "    </tr>\n",
       "    <tr>\n",
       "      <th>197</th>\n",
       "      <td>B</td>\n",
       "      <td>56</td>\n",
       "      <td>Kadın</td>\n",
       "      <td>72</td>\n",
       "      <td>7</td>\n",
       "      <td>982</td>\n",
       "    </tr>\n",
       "    <tr>\n",
       "      <th>198</th>\n",
       "      <td>B</td>\n",
       "      <td>47</td>\n",
       "      <td>Erkek</td>\n",
       "      <td>92</td>\n",
       "      <td>6</td>\n",
       "      <td>1058</td>\n",
       "    </tr>\n",
       "    <tr>\n",
       "      <th>199</th>\n",
       "      <td>B</td>\n",
       "      <td>19</td>\n",
       "      <td>Kadın</td>\n",
       "      <td>76</td>\n",
       "      <td>7</td>\n",
       "      <td>1016</td>\n",
       "    </tr>\n",
       "  </tbody>\n",
       "</table>\n",
       "</div>"
      ],
      "text/plain": [
       "    Grup  Yas Cinsiyet  Ortalama_Kalp_Atis_Hizi  Gunluk_Uyku_Suresi  Haftalik_Ortalama_Adim_Sayisi\n",
       "190    B   42    Erkek                       97                   6                           1040\n",
       "191    B   33    Erkek                       87                   7                            981\n",
       "192    B   59    Erkek                       96                   7                           1067\n",
       "193    B   36    Erkek                       91                   8                            913\n",
       "194    B   58    Kadın                       89                   7                            995\n",
       "195    B   33    Erkek                       89                   6                            993\n",
       "196    B   29    Kadın                       93                   8                           1030\n",
       "197    B   56    Kadın                       72                   7                            982\n",
       "198    B   47    Erkek                       92                   6                           1058\n",
       "199    B   19    Kadın                       76                   7                           1016"
      ]
     },
     "execution_count": 5,
     "metadata": {},
     "output_type": "execute_result"
    }
   ],
   "source": [
    "####VERİNİN SON 10 SATIRININ ALINMASI######\n",
    "df.tail(10)"
   ]
  },
  {
   "cell_type": "code",
   "execution_count": 6,
   "id": "9cfbe418-ef49-4ce9-b080-05b3e4eff14a",
   "metadata": {},
   "outputs": [],
   "source": [
    "#######################################################\n",
    "###                 AŞAMA 2                         ###\n",
    "###  HEDEF GRUP (GRUP A ve GRUP B) ORTALAMALARINI   ###\n",
    "##########          BULMA                           ###"
   ]
  },
  {
   "cell_type": "code",
   "execution_count": 7,
   "id": "4164014f-e3da-4331-a9bc-2867661fa37d",
   "metadata": {},
   "outputs": [
    {
     "data": {
      "text/html": [
       "<div>\n",
       "<style scoped>\n",
       "    .dataframe tbody tr th:only-of-type {\n",
       "        vertical-align: middle;\n",
       "    }\n",
       "\n",
       "    .dataframe tbody tr th {\n",
       "        vertical-align: top;\n",
       "    }\n",
       "\n",
       "    .dataframe thead th {\n",
       "        text-align: right;\n",
       "    }\n",
       "</style>\n",
       "<table border=\"1\" class=\"dataframe\">\n",
       "  <thead>\n",
       "    <tr style=\"text-align: right;\">\n",
       "      <th></th>\n",
       "      <th>Ortalama_Kalp_Atis_Hizi</th>\n",
       "      <th>Gunluk_Uyku_Suresi</th>\n",
       "      <th>Haftalik_Ortalama_Adim_Sayisi</th>\n",
       "      <th>Yas</th>\n",
       "    </tr>\n",
       "    <tr>\n",
       "      <th>Grup</th>\n",
       "      <th></th>\n",
       "      <th></th>\n",
       "      <th></th>\n",
       "      <th></th>\n",
       "    </tr>\n",
       "  </thead>\n",
       "  <tbody>\n",
       "    <tr>\n",
       "      <th>A</th>\n",
       "      <td>79.15</td>\n",
       "      <td>7.09</td>\n",
       "      <td>900.41</td>\n",
       "      <td>38.80</td>\n",
       "    </tr>\n",
       "    <tr>\n",
       "      <th>B</th>\n",
       "      <td>80.19</td>\n",
       "      <td>7.01</td>\n",
       "      <td>1005.56</td>\n",
       "      <td>41.06</td>\n",
       "    </tr>\n",
       "  </tbody>\n",
       "</table>\n",
       "</div>"
      ],
      "text/plain": [
       "      Ortalama_Kalp_Atis_Hizi  Gunluk_Uyku_Suresi  Haftalik_Ortalama_Adim_Sayisi    Yas\n",
       "Grup                                                                                   \n",
       "A                       79.15                7.09                         900.41  38.80\n",
       "B                       80.19                7.01                        1005.56  41.06"
      ]
     },
     "execution_count": 7,
     "metadata": {},
     "output_type": "execute_result"
    }
   ],
   "source": [
    "###GRUPLARA GÖRE YAŞ , ORTALAMA KALP ATIŞ HIZI , GÜNLÜK UYKU SÜRESİ VE HAFTALIK ORT ADIM SAYILARININ HESAPLANMASI###\n",
    "df.groupby(\"Grup\").agg({\"Ortalama_Kalp_Atis_Hizi\":\"mean\",\n",
    "                       \"Gunluk_Uyku_Suresi\":\"mean\",\n",
    "                       \"Haftalik_Ortalama_Adim_Sayisi\":\"mean\",\n",
    "                       \"Yas\":\"mean\"})"
   ]
  },
  {
   "cell_type": "code",
   "execution_count": 8,
   "id": "090998fb-f132-4470-9e96-4f621bd7fcc6",
   "metadata": {},
   "outputs": [],
   "source": [
    "###Bu değerlere bakıldığında , uygulamayı en az 5 gün kullanan ve 5 günden az kullanan kişilerin\n",
    "###kişilerin ortalama kalp atış ve günlük uyku süreleri hemen hemen aynı , haftalık ortalama adım \n",
    "###sayısı uygulamayı daha az kullanan B grubunda matematiksel olarak daha fazladır .\n",
    "### B Grubu ortalamaya bakıldığında daha yaşlı gözükmektedir."
   ]
  },
  {
   "cell_type": "code",
   "execution_count": 9,
   "id": "54026696-2942-4c4f-944d-8fe465aff01e",
   "metadata": {},
   "outputs": [
    {
     "data": {
      "text/html": [
       "<div>\n",
       "<style scoped>\n",
       "    .dataframe tbody tr th:only-of-type {\n",
       "        vertical-align: middle;\n",
       "    }\n",
       "\n",
       "    .dataframe tbody tr th {\n",
       "        vertical-align: top;\n",
       "    }\n",
       "\n",
       "    .dataframe thead th {\n",
       "        text-align: right;\n",
       "    }\n",
       "</style>\n",
       "<table border=\"1\" class=\"dataframe\">\n",
       "  <thead>\n",
       "    <tr style=\"text-align: right;\">\n",
       "      <th></th>\n",
       "      <th>Ortalama_Kalp_Atis_Hizi</th>\n",
       "      <th>Gunluk_Uyku_Suresi</th>\n",
       "      <th>Haftalik_Ortalama_Adim_Sayisi</th>\n",
       "      <th>Yas</th>\n",
       "    </tr>\n",
       "    <tr>\n",
       "      <th>Cinsiyet</th>\n",
       "      <th></th>\n",
       "      <th></th>\n",
       "      <th></th>\n",
       "      <th></th>\n",
       "    </tr>\n",
       "  </thead>\n",
       "  <tbody>\n",
       "    <tr>\n",
       "      <th>Erkek</th>\n",
       "      <td>79.677419</td>\n",
       "      <td>7.021505</td>\n",
       "      <td>957.505376</td>\n",
       "      <td>39.290323</td>\n",
       "    </tr>\n",
       "    <tr>\n",
       "      <th>Kadın</th>\n",
       "      <td>79.663551</td>\n",
       "      <td>7.074766</td>\n",
       "      <td>949.056075</td>\n",
       "      <td>40.485981</td>\n",
       "    </tr>\n",
       "  </tbody>\n",
       "</table>\n",
       "</div>"
      ],
      "text/plain": [
       "          Ortalama_Kalp_Atis_Hizi  Gunluk_Uyku_Suresi  Haftalik_Ortalama_Adim_Sayisi        Yas\n",
       "Cinsiyet                                                                                       \n",
       "Erkek                   79.677419            7.021505                     957.505376  39.290323\n",
       "Kadın                   79.663551            7.074766                     949.056075  40.485981"
      ]
     },
     "execution_count": 9,
     "metadata": {},
     "output_type": "execute_result"
    }
   ],
   "source": [
    "###CİNSİYETE GÖRE YAŞ , ORTALAMA KALP ATIŞ HIZI , GÜNLÜK UYKU SÜRESİ VE HAFTALIK ORT ADIM SAYILARININ HESAPLANMASI###\n",
    "df.groupby(\"Cinsiyet\").agg({\"Ortalama_Kalp_Atis_Hizi\":\"mean\",\n",
    "                       \"Gunluk_Uyku_Suresi\":\"mean\",\n",
    "                       \"Haftalik_Ortalama_Adim_Sayisi\":\"mean\",\n",
    "                        \"Yas\":\"mean\"})"
   ]
  },
  {
   "cell_type": "code",
   "execution_count": 10,
   "id": "ef39bb14-8678-4f5d-bab0-d7345077ce24",
   "metadata": {},
   "outputs": [],
   "source": [
    "###Bu değerlere bakıldığında , kadın ve erkeklerin\n",
    "###ortalama kalp atış ve günlük uyku süreleri hemen hemen aynı , haftalık ortalama adım \n",
    "###sayısı erkeklerde matematiksel olarak daha fazladır  \n",
    "### Kadınlar ortalamaya bakıldığında daha yaşlı gözükmektedir."
   ]
  },
  {
   "cell_type": "code",
   "execution_count": 11,
   "id": "5332277b-3058-497c-b64b-91ca6b78be58",
   "metadata": {},
   "outputs": [
    {
     "data": {
      "text/plain": [
       "0     920\n",
       "1     920\n",
       "2     902\n",
       "3     943\n",
       "4     840\n",
       "     ... \n",
       "95    916\n",
       "96    958\n",
       "97    955\n",
       "98    825\n",
       "99    821\n",
       "Name: Haftalik_Ortalama_Adim_Sayisi, Length: 100, dtype: int64"
      ]
     },
     "execution_count": 11,
     "metadata": {},
     "output_type": "execute_result"
    }
   ],
   "source": [
    "df.loc[df[\"Grup\"]==\"A\" , \"Haftalik_Ortalama_Adim_Sayisi\"]"
   ]
  },
  {
   "cell_type": "code",
   "execution_count": 12,
   "id": "c279a708-85e5-4231-902e-7c4105712c07",
   "metadata": {},
   "outputs": [],
   "source": [
    "########################################################################\n",
    "###                 AŞAMA 3.1                                        ###\n",
    "###  HEDEF GRUPLARIN NORMALLİK KONTROLLERİ (SHAPIRO)                 ###\n",
    "########################################################################\n",
    "###    PARAMETRİK TEST Mİ , NON PARAMETRİK TEST Mİ KULLANILMALI?     ###\n",
    "###         GRUPLAR NORMAL Mİ?                                       ###\n",
    "### H0 : Normal dağılım varsayımı sağlanmaktadır.                    ###\n",
    "### H1 : Normal dağılım varsayımı sağlanmamaktadır.                  ###\n",
    "########################################################################\n",
    "### ÖNCE A GRUBU İÇİN NORMALLİK KONTROLÜ                             ###\n",
    "istatistikdegeri_A , p_degeri_A = shapiro(df.loc[df[\"Grup\"]==\"A\" , \"Haftalik_Ortalama_Adim_Sayisi\"])\n"
   ]
  },
  {
   "cell_type": "code",
   "execution_count": 13,
   "id": "8bbd9837-3439-4e45-8244-573c9cb4019b",
   "metadata": {},
   "outputs": [
    {
     "data": {
      "text/plain": [
       "0.039043936878442764"
      ]
     },
     "execution_count": 13,
     "metadata": {},
     "output_type": "execute_result"
    }
   ],
   "source": [
    "p_degeri_A"
   ]
  },
  {
   "cell_type": "code",
   "execution_count": 14,
   "id": "08b4ee4c-a17c-4b45-bd2d-ff9704099797",
   "metadata": {},
   "outputs": [],
   "source": [
    "###   İstatistiğin P değeri , eşik değeri olarak belirlenen %1'den büyük olduğu için\n",
    "###   A Grubunun adım sayısının Normal dağıldığı varsayımı REDDEDİLEMEZ."
   ]
  },
  {
   "cell_type": "code",
   "execution_count": 15,
   "id": "b4ea808d-c2a4-40d7-8655-4ac6f91dcbf3",
   "metadata": {},
   "outputs": [],
   "source": [
    "### SONRA B GRUBU İÇİN NORMALLİK KONTROLÜ             ###\n",
    "istatistikdegeri_B , p_degeri_B = shapiro(df.loc[df[\"Grup\"]==\"B\" , \"Haftalik_Ortalama_Adim_Sayisi\"])\n"
   ]
  },
  {
   "cell_type": "code",
   "execution_count": 16,
   "id": "4d4aa966-a6f8-462d-9760-dcf8848cf00b",
   "metadata": {},
   "outputs": [
    {
     "data": {
      "text/plain": [
       "0.03595287725329399"
      ]
     },
     "execution_count": 16,
     "metadata": {},
     "output_type": "execute_result"
    }
   ],
   "source": [
    "p_degeri_B"
   ]
  },
  {
   "cell_type": "code",
   "execution_count": 17,
   "id": "1465d260-250f-4c10-b369-dc3a527d0ab5",
   "metadata": {},
   "outputs": [],
   "source": [
    "###   İstatistiğin P değeri , eşik değeri olarak belirlenen %1'den büyük olduğu için\n",
    "###   B Grubunun da adım sayısının Normal dağıldığı varsayımı REDDEDİLEMEZ."
   ]
  },
  {
   "cell_type": "code",
   "execution_count": 18,
   "id": "de97f595-385f-4540-b511-269555717bf7",
   "metadata": {},
   "outputs": [],
   "source": [
    "######################################################\n",
    "###                 AŞAMA 3.2                      ###\n",
    "###  VARYANS HOMOJENLİĞİ  KONTROLÜ (LEVENE)        ###\n",
    "######################################################\n",
    "### VARYANS HOMOJENLİĞİ\n",
    "### HO : GRUP VARYANSLARI HOMOJENDİR\n",
    "### H1 : GRUP VARYANSLARI HOMOJEN DEĞİLDİR"
   ]
  },
  {
   "cell_type": "code",
   "execution_count": 19,
   "id": "499414fa-cc01-4c18-b671-9cf44b2ca9f9",
   "metadata": {},
   "outputs": [],
   "source": [
    "istatistikdegeri_levene , p_degeri_levene = levene(df.loc[df[\"Grup\"]==\"A\" , \"Haftalik_Ortalama_Adim_Sayisi\"],\n",
    "                                                   df.loc[df[\"Grup\"]==\"B\" , \"Haftalik_Ortalama_Adim_Sayisi\"])"
   ]
  },
  {
   "cell_type": "code",
   "execution_count": 20,
   "id": "cef4fb34-aefd-408e-bbc7-5082c64d5028",
   "metadata": {},
   "outputs": [
    {
     "data": {
      "text/plain": [
       "0.5509502895042837"
      ]
     },
     "execution_count": 20,
     "metadata": {},
     "output_type": "execute_result"
    }
   ],
   "source": [
    "p_degeri_levene"
   ]
  },
  {
   "cell_type": "code",
   "execution_count": 21,
   "id": "0b182563-b465-4dcd-a0b5-084011dce659",
   "metadata": {},
   "outputs": [],
   "source": [
    "###   İstatistiğin P değeri , eşik değeri olarak belirlenen %1'den büyük olduğu için\n",
    "###   Her iki grubunun varyanslarının homojenliği reddedilemez."
   ]
  },
  {
   "cell_type": "code",
   "execution_count": 22,
   "id": "fa3361a9-6331-4204-bc09-71a7698e50f3",
   "metadata": {},
   "outputs": [],
   "source": [
    "#############################################################\n",
    "###                 AŞAMA 4                               ###\n",
    "###  NORMALLK VE VARYANS HOMOJENLİĞİ IŞIĞINDA YAPILAN     ###\n",
    "###                     T-TEST                            ###\n",
    "#############################################################\n",
    "###Uygulamayı en az 5 gün kullanan ve 5 günden az kullanan kişilerin haftalık ortalama\n",
    "###adım sayıları istatistiksel olarak farklı mıdır?\n",
    "### HO: Her iki grubun haftalık ortalama adım sayıları arasında istatistiksel olarak anlamlı bir fark bulunmamaktadır.\n",
    "### H1: Her iki grubun haftalık ortalama adım sayıları arasında istatistiksel olarak anlamlı bir fark vardır."
   ]
  },
  {
   "cell_type": "code",
   "execution_count": 23,
   "id": "6b5ca7b7-2729-42ef-ab82-a8c6c0a2bc43",
   "metadata": {},
   "outputs": [],
   "source": [
    "istatistikdegeri_ttest , p_degeri_ttest=ttest_ind(df.loc[df[\"Grup\"]==\"A\" , \"Haftalik_Ortalama_Adim_Sayisi\"],\n",
    "                                                  df.loc[df[\"Grup\"]==\"B\" , \"Haftalik_Ortalama_Adim_Sayisi\"],\n",
    "                                                  equal_var=True         )"
   ]
  },
  {
   "cell_type": "code",
   "execution_count": 24,
   "id": "7f7290e2-f65f-4c2c-ba56-53ff524468db",
   "metadata": {},
   "outputs": [
    {
     "data": {
      "text/plain": [
       "8.050934077908693e-34"
      ]
     },
     "execution_count": 24,
     "metadata": {},
     "output_type": "execute_result"
    }
   ],
   "source": [
    "p_degeri_ttest"
   ]
  },
  {
   "cell_type": "code",
   "execution_count": 25,
   "id": "6ae43140-747c-4c77-a0dd-ee65a523d8aa",
   "metadata": {},
   "outputs": [],
   "source": [
    "###############################################################################################################\n",
    "####                                           SONUÇ                                                       ####\n",
    "####          SONUÇ OLARAK , UYGULAMAYI 5 GÜNDEN AZ KULLANAN VE EN AZ 5 GÜN KULLANAN KİŞİLERİN             ####\n",
    "####               HAFTALIK ORTALAMA ADIM SAYILARI İSTATİSTİKSEL OLARAK BİRBİRİNDEN FARKLIDIR.             ####\n",
    "####           GRUPLARA GÖRE ORTALAMALARIN VERİLDİĞİ YUKARIDAKİ TABLODAN HAFTALIK ORT ADIM SAYILARI        ####\n",
    "####         KONTROL EDİLDİĞİNDE , UYGULAMAYI DAHA AZ KULLANANLARIN HAFTALIK ORTALAMA ADIM SAYILARININ     ####\n",
    "####       DİĞER GRUBA GÖRE İSTATİSTİKSEK OLARAK DA ANLAMLI ŞEKİLDE YÜKSEK OLDUĞU SONUCUNA VARILMAKTADIR.  ####\n",
    "###############################################################################################################"
   ]
  },
  {
   "cell_type": "code",
   "execution_count": 26,
   "id": "b6393586-3392-42ee-b54c-934d37f83bce",
   "metadata": {},
   "outputs": [],
   "source": [
    "##########################################################\n",
    "###  %5 anlamlılık için testlerin tekrarlanması        ###\n",
    "##########################################################"
   ]
  },
  {
   "cell_type": "code",
   "execution_count": 27,
   "id": "9d8ed8b8-626c-4673-a95b-fc2a8fcb3f25",
   "metadata": {},
   "outputs": [
    {
     "data": {
      "text/plain": [
       "0.039043936878442764"
      ]
     },
     "execution_count": 27,
     "metadata": {},
     "output_type": "execute_result"
    }
   ],
   "source": [
    "########################################################################\n",
    "###                 AŞAMA 3.1                                        ###\n",
    "###  HEDEF GRUPLARIN NORMALLİK KONTROLLERİ (SHAPIRO)                 ###\n",
    "########################################################################\n",
    "###    PARAMETRİK TEST Mİ , NON PARAMETRİK TEST Mİ KULLANILMALI?     ###\n",
    "###         GRUPLAR NORMAL Mİ?                                       ###\n",
    "### H0 : Normal dağılım varsayımı sağlanmaktadır.                    ###\n",
    "### H1 : Normal dağılım varsayımı sağlanmamaktadır.                  ###\n",
    "########################################################################\n",
    "### ÖNCE A GRUBU İÇİN NORMALLİK KONTROLÜ                             ###\n",
    "p_degeri_A"
   ]
  },
  {
   "cell_type": "code",
   "execution_count": 28,
   "id": "681ca643-08cc-498c-988e-3b9b990ddf69",
   "metadata": {},
   "outputs": [],
   "source": [
    "###   İstatistiğin P değeri , eşik değeri olarak belirlenen %5'den küçük olduğu için\n",
    "###   A Grubunun adım sayısının Normal dağıldığı varsayımı REDDEDİLİR"
   ]
  },
  {
   "cell_type": "code",
   "execution_count": 29,
   "id": "879760cb-a182-48a5-8e02-1086ee8d153e",
   "metadata": {},
   "outputs": [
    {
     "data": {
      "text/plain": [
       "0.03595287725329399"
      ]
     },
     "execution_count": 29,
     "metadata": {},
     "output_type": "execute_result"
    }
   ],
   "source": [
    "p_degeri_B"
   ]
  },
  {
   "cell_type": "code",
   "execution_count": 30,
   "id": "56064339-1a8c-4ec6-9ee9-cef9dcf0ddbe",
   "metadata": {},
   "outputs": [],
   "source": [
    "###   İstatistiğin P değeri , eşik değeri olarak belirlenen %5'den küçük olduğu için\n",
    "###   B Grubunun adım sayısının Normal dağıldığı varsayımı REDDEDİLİR"
   ]
  },
  {
   "cell_type": "code",
   "execution_count": 31,
   "id": "8cc68aa9-3a09-4792-89c5-ad8ca55488e9",
   "metadata": {},
   "outputs": [],
   "source": [
    "#############################################################\n",
    "###                         AŞAMA 4                       ###\n",
    "###          NORMAL DIŞI DAĞILIM IŞIĞINDA YAPILAN         ###\n",
    "###          MANN WHITNEY U NON PARAMETRİK TESTİ          ###\n",
    "#############################################################\n",
    "###Uygulamayı en az 5 gün kullanan ve 5 günden az kullanan kişilerin haftalık ortalama\n",
    "###adım sayıları istatistiksel olarak farklı mıdır?\n",
    "### HO: Her iki grubun haftalık ortalama adım sayıları arasında istatistiksel olarak anlamlı bir fark bulunmamaktadır.\n",
    "### H1: Her iki grubun haftalık ortalama adım sayıları arasında istatistiksel olarak anlamlı bir fark vardır."
   ]
  },
  {
   "cell_type": "code",
   "execution_count": 32,
   "id": "90a57575-1593-4f61-922d-e9422c43c09b",
   "metadata": {},
   "outputs": [],
   "source": [
    "istatistikdegeri_mannwhitneyu , p_degeri_mannwhitneyu=mannwhitneyu(df.loc[df[\"Grup\"]==\"A\" , \"Haftalik_Ortalama_Adim_Sayisi\"],\n",
    "                                                  df.loc[df[\"Grup\"]==\"B\" , \"Haftalik_Ortalama_Adim_Sayisi\"])     "
   ]
  },
  {
   "cell_type": "code",
   "execution_count": 33,
   "id": "ad667472-d7aa-470a-9ee1-5fca913e04c8",
   "metadata": {},
   "outputs": [
    {
     "data": {
      "text/plain": [
       "9.909778382242995e-27"
      ]
     },
     "execution_count": 33,
     "metadata": {},
     "output_type": "execute_result"
    }
   ],
   "source": [
    "p_degeri_mannwhitneyu"
   ]
  },
  {
   "cell_type": "code",
   "execution_count": 34,
   "id": "c1b75000-d272-404c-9ea8-bbf5b25807fb",
   "metadata": {},
   "outputs": [],
   "source": [
    "#############################################################################################################\n",
    "####                                      SONUÇ                                                          ####\n",
    "####                   SONUÇ OLARAK , %5 GÜVEN ARALIĞI İLE BAKILDIĞINDA DA                               ####\n",
    "####        UYGULAMAYI 5 GÜNDEN AZ KULLANAN VE EN AZ 5 GÜN KULLANAN KİŞİLERİN                            ####\n",
    "####        HAFTALIK ORTALAMA ADIM SAYILARI İSTATİSTİKSEL OLARAK BİRBİRİNDEN FARKLIDIR.                  ####\n",
    "####     GRUPLARA GÖRE ORTALAMALARIN VERİLDİĞİ YUKARIDAKİ TABLODAN HAFTALIK ORT ADIM SAYILARI            ####\n",
    "####   KONTROL EDİLDİĞİNDE , UYGULAMAYI DAHA AZ KULLANANLARIN HAFTALIK ORTALAMA ADIM SAYILARININ         ####\n",
    "####   DİĞER GRUBA GÖRE İSTATİSTİKSEK OLARAK DA ANLAMLI ŞEKİLDE YÜKSEK OLDUĞU SONUCUNA VARILMAKTADIR.    ####\n",
    "#############################################################################################################"
   ]
  }
 ],
 "metadata": {
  "kernelspec": {
   "display_name": "Python 3 (ipykernel)",
   "language": "python",
   "name": "python3"
  },
  "language_info": {
   "codemirror_mode": {
    "name": "ipython",
    "version": 3
   },
   "file_extension": ".py",
   "mimetype": "text/x-python",
   "name": "python",
   "nbconvert_exporter": "python",
   "pygments_lexer": "ipython3",
   "version": "3.10.9"
  }
 },
 "nbformat": 4,
 "nbformat_minor": 5
}
